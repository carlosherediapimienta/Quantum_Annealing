{
  "nbformat": 4,
  "nbformat_minor": 0,
  "metadata": {
    "colab": {
      "provenance": [],
      "authorship_tag": "ABX9TyPQIHmGAnCVrhHptJGGRD91",
      "include_colab_link": true
    },
    "kernelspec": {
      "name": "python3",
      "display_name": "Python 3"
    },
    "language_info": {
      "name": "python"
    }
  },
  "cells": [
    {
      "cell_type": "markdown",
      "metadata": {
        "id": "view-in-github",
        "colab_type": "text"
      },
      "source": [
        "<a href=\"https://colab.research.google.com/github/carlosherediapimienta/Quantum_Annealing/blob/main/Testing_Code_Neal.ipynb\" target=\"_parent\"><img src=\"https://colab.research.google.com/assets/colab-badge.svg\" alt=\"Open In Colab\"/></a>"
      ]
    },
    {
      "cell_type": "markdown",
      "source": [
        "#1. Library"
      ],
      "metadata": {
        "id": "X84cH9VKUlCj"
      }
    },
    {
      "cell_type": "code",
      "execution_count": 1,
      "metadata": {
        "colab": {
          "base_uri": "https://localhost:8080/"
        },
        "id": "ByvdolVjUN6Z",
        "outputId": "2e664769-9658-44fd-a18c-20a77097c684"
      },
      "outputs": [
        {
          "output_type": "stream",
          "name": "stdout",
          "text": [
            "Collecting dwave-neal\n",
            "  Downloading dwave_neal-0.6.0-py3-none-any.whl (8.7 kB)\n",
            "Collecting dwave-samplers<2.0.0,>=1.0.0 (from dwave-neal)\n",
            "  Downloading dwave_samplers-1.2.0-cp310-cp310-manylinux_2_17_x86_64.manylinux2014_x86_64.whl (6.7 MB)\n",
            "\u001b[2K     \u001b[90m━━━━━━━━━━━━━━━━━━━━━━━━━━━━━━━━━━━━━━━━\u001b[0m \u001b[32m6.7/6.7 MB\u001b[0m \u001b[31m36.8 MB/s\u001b[0m eta \u001b[36m0:00:00\u001b[0m\n",
            "\u001b[?25hRequirement already satisfied: numpy<2.0.0,>=1.19.0 in /usr/local/lib/python3.10/dist-packages (from dwave-samplers<2.0.0,>=1.0.0->dwave-neal) (1.23.5)\n",
            "Collecting dimod<0.13.0,>=0.12.0 (from dwave-samplers<2.0.0,>=1.0.0->dwave-neal)\n",
            "  Downloading dimod-0.12.13-cp310-cp310-manylinux_2_17_x86_64.manylinux2014_x86_64.whl (18.4 MB)\n",
            "\u001b[2K     \u001b[90m━━━━━━━━━━━━━━━━━━━━━━━━━━━━━━━━━━━━━━━━\u001b[0m \u001b[32m18.4/18.4 MB\u001b[0m \u001b[31m76.0 MB/s\u001b[0m eta \u001b[36m0:00:00\u001b[0m\n",
            "\u001b[?25hRequirement already satisfied: networkx>=2.4.0 in /usr/local/lib/python3.10/dist-packages (from dwave-samplers<2.0.0,>=1.0.0->dwave-neal) (3.2.1)\n",
            "Installing collected packages: dimod, dwave-samplers, dwave-neal\n",
            "Successfully installed dimod-0.12.13 dwave-neal-0.6.0 dwave-samplers-1.2.0\n"
          ]
        }
      ],
      "source": [
        "!pip install dwave-neal"
      ]
    },
    {
      "cell_type": "code",
      "source": [
        "import neal"
      ],
      "metadata": {
        "id": "MbOrJOG6UvR-"
      },
      "execution_count": 2,
      "outputs": []
    },
    {
      "cell_type": "markdown",
      "source": [
        "#2. Testing"
      ],
      "metadata": {
        "id": "-dwwXGdfUp_p"
      }
    },
    {
      "cell_type": "code",
      "source": [
        "sampler=neal.SimulatedAnnealingSampler()"
      ],
      "metadata": {
        "colab": {
          "base_uri": "https://localhost:8080/"
        },
        "id": "QrCIO5m2Uxk1",
        "outputId": "b517413c-d001-4193-9f42-20f6733935c5"
      },
      "execution_count": 4,
      "outputs": [
        {
          "output_type": "stream",
          "name": "stdout",
          "text": [
            "<dwave.samplers.sa.sampler.SimulatedAnnealingSampler object at 0x7dcfc8da3cd0>\n"
          ]
        }
      ]
    },
    {
      "cell_type": "markdown",
      "source": [
        "In mathematical terms, the operation we are going to perform can be expressed as follows:\n",
        "\n",
        "For a quantum optimization problem in the Ising model, where the goal is to minimize the energy of a system, the energy function $(E)$ can be written as:\n",
        "\n",
        "$$E(h, J, s) = \\sum_{i} h_i s_i + \\sum_{i, j} J_{ij} s_i s_j$$\n",
        "\n",
        "where:\n",
        "- $h_i$ is the bias (field coupling) for qubit $(i)$,\n",
        "- $(J_{ij})$ is the coupling between qubits $(i)$ and $(j)$, and\n",
        "- $(s_i)$ is the value of qubit $(i)$ which can be $-1$ or $1$.\n",
        "\n",
        "The function `sampler.sample_ising(h, J, num_reads=10)` performs a sampling operation where configurations of qubits $(s)$ are generated according to the quantum probability associated with the system's energy. The output, `sampleset`, will contain information about these sampled configurations.\n",
        "\n",
        "So, in more general terms, we are using a simulator of a quantum computerto find qubit configurations that minimize the energy of your system, and this process is repeated 10 times due to the parameter `num_reads=10`."
      ],
      "metadata": {
        "id": "lUdWBA6rWiPH"
      }
    },
    {
      "cell_type": "code",
      "source": [
        "h={'a':0.0, 'b':0.0, 'c':0.0}\n",
        "J={('a','b'): 1.0, ('b','c'): 1.0, ('a','c'): 1.0}\n",
        "sampleset = sampler.sample_ising(h,J, num_reads=10)"
      ],
      "metadata": {
        "id": "YQ-nEuQwU8rY"
      },
      "execution_count": 5,
      "outputs": []
    },
    {
      "cell_type": "markdown",
      "source": [
        "#3. Results"
      ],
      "metadata": {
        "id": "Bh14JShXXWop"
      }
    },
    {
      "cell_type": "code",
      "source": [
        "sampleset"
      ],
      "metadata": {
        "colab": {
          "base_uri": "https://localhost:8080/"
        },
        "id": "4Mp5SvCXXcDq",
        "outputId": "76af3be8-1810-4462-95c8-a4a50b760839"
      },
      "execution_count": 7,
      "outputs": [
        {
          "output_type": "execute_result",
          "data": {
            "text/plain": [
              "SampleSet(rec.array([([-1,  1,  1], -1., 1), ([ 1, -1, -1], -1., 1),\n",
              "           ([-1, -1,  1], -1., 1), ([ 1, -1, -1], -1., 1),\n",
              "           ([ 1,  1, -1], -1., 1), ([-1, -1,  1], -1., 1),\n",
              "           ([ 1, -1,  1], -1., 1), ([ 1,  1, -1], -1., 1),\n",
              "           ([ 1,  1, -1], -1., 1), ([-1,  1, -1], -1., 1)],\n",
              "          dtype=[('sample', 'i1', (3,)), ('energy', '<f8'), ('num_occurrences', '<i8')]), Variables(['a', 'b', 'c']), {'beta_range': [0.17328679513998632, 2.8518912373281005], 'beta_schedule_type': 'geometric', 'timing': {'preprocessing_ns': 10782687, 'sampling_ns': 893377, 'postprocessing_ns': 348833}}, 'SPIN')"
            ]
          },
          "metadata": {},
          "execution_count": 7
        }
      ]
    },
    {
      "cell_type": "markdown",
      "source": [
        "The output is from a `SampleSet` object and contains information about the sampled quantum configurations and their associated energies.\n",
        "\n",
        "```\n",
        "SampleSet(\n",
        "    rec.array([\n",
        "        ([-1,  1,  1], -1., 1),\n",
        "        ([ 1, -1, -1], -1., 1),\n",
        "        ([-1, -1,  1], -1., 1),\n",
        "        ([ 1, -1, -1], -1., 1),\n",
        "        ([ 1,  1, -1], -1., 1),\n",
        "        ([-1, -1,  1], -1., 1),\n",
        "        ([ 1, -1,  1], -1., 1),\n",
        "        ([ 1,  1, -1], -1., 1),\n",
        "        ([ 1,  1, -1], -1., 1),\n",
        "        ([-1,  1, -1], -1., 1)\n",
        "    ], dtype=[\n",
        "        ('sample', 'i1', (3,)),\n",
        "        ('energy', '<f8'),\n",
        "        ('num_occurrences', '<i8')\n",
        "    ]),\n",
        "    Variables(['a', 'b', 'c']),\n",
        "    {\n",
        "        'beta_range': [0.17328679513998632, 2.8518912373281005],\n",
        "        'beta_schedule_type': 'geometric',\n",
        "        'timing': {\n",
        "            'preprocessing_ns': 10782687,\n",
        "            'sampling_ns': 893377,\n",
        "            'postprocessing_ns': 348833\n",
        "        }\n",
        "    },\n",
        "    'SPIN'\n",
        ")\n",
        "```\n",
        "**Explanation of Key Parts:**\n",
        "\n",
        "- **`rec.array`**: Represents a structured array with information about each sampled quantum configuration.\n",
        "    - **`('sample', 'i1', (3,))`**: The quantum configuration for each qubit, where each qubit can have a value of -1 or 1, and there are a total of 3 qubits.\n",
        "    - **`('energy', '<f8')`**: The energy associated with each quantum configuration.\n",
        "    - **`('num_occurrences', '<i8')`**: The number of times each configuration is observed during sampling.\n",
        "\n",
        "- **`Variables(['a', 'b', 'c'])`**: Indicates the mapping between qubit indices and their labels. In this case, 'a', 'b', and 'c' refer to qubits 1, 2, and 3, respectively.\n",
        "\n",
        "- The dictionary provides additional information about the execution:\n",
        "    - **`beta_range`**: The range of beta values used in sampling.\n",
        "    - **`beta_schedule_type`**: The type of beta schedule used (in this case, 'geometric').\n",
        "    - **`timing`**: Information about the time used in various stages of the process, measured in nanoseconds.\n",
        "\n",
        "- **`'SPIN'`**: Indicates that the problem was formulated in the spin model."
      ],
      "metadata": {
        "id": "0fYpdtnkXema"
      }
    }
  ]
}